{
 "cells": [
  {
   "cell_type": "code",
   "execution_count": 1,
   "id": "a4d9a0a8-0a57-464d-a927-641ed74ec74c",
   "metadata": {},
   "outputs": [
    {
     "name": "stdout",
     "output_type": "stream",
     "text": [
      "Initialized empty Git repository in C:/Users/Chiemerie/Desktop/projects/mbl_assessment/.git/\n"
     ]
    }
   ],
   "source": [
    "!git init"
   ]
  },
  {
   "cell_type": "code",
   "execution_count": 2,
   "id": "ddf02297-ce56-419f-8dac-adf3e51b3ebc",
   "metadata": {},
   "outputs": [
    {
     "name": "stdout",
     "output_type": "stream",
     "text": [
      "Requirement already satisfied: matplotlib in c:\\users\\chiemerie\\appdata\\local\\programs\\python\\python312\\lib\\site-packages (3.9.2)\n",
      "Requirement already satisfied: contourpy>=1.0.1 in c:\\users\\chiemerie\\appdata\\local\\programs\\python\\python312\\lib\\site-packages (from matplotlib) (1.3.0)\n",
      "Requirement already satisfied: cycler>=0.10 in c:\\users\\chiemerie\\appdata\\local\\programs\\python\\python312\\lib\\site-packages (from matplotlib) (0.12.1)\n",
      "Requirement already satisfied: fonttools>=4.22.0 in c:\\users\\chiemerie\\appdata\\local\\programs\\python\\python312\\lib\\site-packages (from matplotlib) (4.53.1)\n",
      "Requirement already satisfied: kiwisolver>=1.3.1 in c:\\users\\chiemerie\\appdata\\local\\programs\\python\\python312\\lib\\site-packages (from matplotlib) (1.4.7)\n",
      "Requirement already satisfied: numpy>=1.23 in c:\\users\\chiemerie\\appdata\\local\\programs\\python\\python312\\lib\\site-packages (from matplotlib) (2.1.0)\n",
      "Requirement already satisfied: packaging>=20.0 in c:\\users\\chiemerie\\appdata\\local\\programs\\python\\python312\\lib\\site-packages (from matplotlib) (24.0)\n",
      "Requirement already satisfied: pillow>=8 in c:\\users\\chiemerie\\appdata\\local\\programs\\python\\python312\\lib\\site-packages (from matplotlib) (10.0.0)\n",
      "Requirement already satisfied: pyparsing>=2.3.1 in c:\\users\\chiemerie\\appdata\\local\\programs\\python\\python312\\lib\\site-packages (from matplotlib) (3.1.4)\n",
      "Requirement already satisfied: python-dateutil>=2.7 in c:\\users\\chiemerie\\appdata\\local\\programs\\python\\python312\\lib\\site-packages (from matplotlib) (2.9.0.post0)\n",
      "Requirement already satisfied: six>=1.5 in c:\\users\\chiemerie\\appdata\\local\\programs\\python\\python312\\lib\\site-packages (from python-dateutil>=2.7->matplotlib) (1.16.0)\n"
     ]
    },
    {
     "name": "stderr",
     "output_type": "stream",
     "text": [
      "\n",
      "[notice] A new release of pip is available: 23.2.1 -> 24.2\n",
      "[notice] To update, run: python.exe -m pip install --upgrade pip\n"
     ]
    }
   ],
   "source": [
    "!pip install matplotlib"
   ]
  },
  {
   "cell_type": "code",
   "execution_count": 4,
   "id": "67a38d3d-f7ef-4737-a207-22a55dfbf9f5",
   "metadata": {},
   "outputs": [
    {
     "name": "stdout",
     "output_type": "stream",
     "text": [
      "Collecting sns\n",
      "  Downloading sns-0.1.tar.gz (2.1 kB)\n",
      "  Installing build dependencies: started\n",
      "  Installing build dependencies: finished with status 'done'\n",
      "  Getting requirements to build wheel: started\n",
      "  Getting requirements to build wheel: finished with status 'done'\n",
      "  Preparing metadata (pyproject.toml): started\n",
      "  Preparing metadata (pyproject.toml): finished with status 'done'\n",
      "Building wheels for collected packages: sns\n",
      "  Building wheel for sns (pyproject.toml): started\n",
      "  Building wheel for sns (pyproject.toml): finished with status 'done'\n",
      "  Created wheel for sns: filename=sns-0.1-py3-none-any.whl size=2645 sha256=1fdb8dffa0d987343d6baafaf611d388ef6dbce46f98b054b3c3cd02816281b7\n",
      "  Stored in directory: c:\\users\\chiemerie\\appdata\\local\\pip\\cache\\wheels\\26\\ac\\4b\\7743e50a108f4a12a07e0e257dbecefc884a953125a6e1b48f\n",
      "Successfully built sns\n",
      "Installing collected packages: sns\n",
      "Successfully installed sns-0.1\n"
     ]
    },
    {
     "name": "stderr",
     "output_type": "stream",
     "text": [
      "\n",
      "[notice] A new release of pip is available: 23.2.1 -> 24.2\n",
      "[notice] To update, run: python.exe -m pip install --upgrade pip\n"
     ]
    }
   ],
   "source": [
    "!pip install sns"
   ]
  },
  {
   "cell_type": "code",
   "execution_count": 40,
   "id": "7a27c2a5-d1dd-40a3-8128-4f8b913e6aa0",
   "metadata": {},
   "outputs": [],
   "source": [
    "# !pip install Scikit-learn"
   ]
  },
  {
   "cell_type": "code",
   "execution_count": 42,
   "id": "b63f08ee-6f7c-419e-beb9-85f62839df82",
   "metadata": {},
   "outputs": [],
   "source": [
    "import pandas as pd\n",
    "import numpy as np\n",
    "import matplotlib.pyplot as plt\n",
    "import seaborn as sns\n",
    "from sklearn.model_selection import train_test_split"
   ]
  },
  {
   "cell_type": "code",
   "execution_count": null,
   "id": "99dc2cd0-0023-4f7f-b628-70e5f980c595",
   "metadata": {},
   "outputs": [],
   "source": []
  },
  {
   "cell_type": "code",
   "execution_count": 10,
   "id": "8a5b93ea-6408-496a-916a-403970a51efb",
   "metadata": {},
   "outputs": [],
   "source": [
    "df = pd.read_csv(\"helpdesk_customer_tickets.csv\")"
   ]
  },
  {
   "cell_type": "code",
   "execution_count": 11,
   "id": "645f8a73-d8f1-4f7d-849f-f66ea3f1921f",
   "metadata": {},
   "outputs": [
    {
     "data": {
      "text/html": [
       "<div>\n",
       "<style scoped>\n",
       "    .dataframe tbody tr th:only-of-type {\n",
       "        vertical-align: middle;\n",
       "    }\n",
       "\n",
       "    .dataframe tbody tr th {\n",
       "        vertical-align: top;\n",
       "    }\n",
       "\n",
       "    .dataframe thead th {\n",
       "        text-align: right;\n",
       "    }\n",
       "</style>\n",
       "<table border=\"1\" class=\"dataframe\">\n",
       "  <thead>\n",
       "    <tr style=\"text-align: right;\">\n",
       "      <th></th>\n",
       "      <th>id</th>\n",
       "      <th>subject</th>\n",
       "      <th>body</th>\n",
       "      <th>answer</th>\n",
       "      <th>type</th>\n",
       "      <th>queue</th>\n",
       "      <th>priority</th>\n",
       "      <th>language</th>\n",
       "      <th>business_type</th>\n",
       "      <th>tag_1</th>\n",
       "      <th>tag_2</th>\n",
       "      <th>tag_3</th>\n",
       "      <th>tag_4</th>\n",
       "      <th>tag_5</th>\n",
       "      <th>tag_6</th>\n",
       "      <th>tag_7</th>\n",
       "      <th>tag_8</th>\n",
       "      <th>tag_9</th>\n",
       "    </tr>\n",
       "  </thead>\n",
       "  <tbody>\n",
       "    <tr>\n",
       "      <th>0</th>\n",
       "      <td>36</td>\n",
       "      <td>Anfrage zu den Spezifikationen und Anpassungso...</td>\n",
       "      <td>Sehr geehrtes Support-Team des Tech Online Sto...</td>\n",
       "      <td>Sehr geehrter &lt;name&gt;,\\n\\nvielen Dank für Ihr I...</td>\n",
       "      <td>Request</td>\n",
       "      <td>Customer Service</td>\n",
       "      <td>medium</td>\n",
       "      <td>de</td>\n",
       "      <td>Tech Online Store</td>\n",
       "      <td>Product Support</td>\n",
       "      <td>Sales Inquiry</td>\n",
       "      <td>Technical Guidance</td>\n",
       "      <td>General Inquiry</td>\n",
       "      <td>NaN</td>\n",
       "      <td>NaN</td>\n",
       "      <td>NaN</td>\n",
       "      <td>NaN</td>\n",
       "      <td>NaN</td>\n",
       "    </tr>\n",
       "    <tr>\n",
       "      <th>1</th>\n",
       "      <td>39</td>\n",
       "      <td>Déconnexions fréquentes et plantages</td>\n",
       "      <td>Le client signale des déconnexions fréquentes ...</td>\n",
       "      <td>Nous allons enquêter sur le problème avec Zoom...</td>\n",
       "      <td>Incident</td>\n",
       "      <td>Product Support</td>\n",
       "      <td>high</td>\n",
       "      <td>fr</td>\n",
       "      <td>Software Development Company</td>\n",
       "      <td>Technical Support</td>\n",
       "      <td>Software Bug</td>\n",
       "      <td>Service Disruption</td>\n",
       "      <td>System Crash</td>\n",
       "      <td>Problem Resolution</td>\n",
       "      <td>Performance Tuning</td>\n",
       "      <td>NaN</td>\n",
       "      <td>NaN</td>\n",
       "      <td>NaN</td>\n",
       "    </tr>\n",
       "    <tr>\n",
       "      <th>2</th>\n",
       "      <td>243</td>\n",
       "      <td>Problema de sonido Dell XPS</td>\n",
       "      <td>Problema con el sonido, manejando como devoluc...</td>\n",
       "      <td>Gracias por su correo electrónico. Procesaremo...</td>\n",
       "      <td>Problem</td>\n",
       "      <td>Returns and Exchanges</td>\n",
       "      <td>medium</td>\n",
       "      <td>es</td>\n",
       "      <td>Tech Online Store</td>\n",
       "      <td>Returns and Exchanges</td>\n",
       "      <td>Product Support</td>\n",
       "      <td>Customer Service</td>\n",
       "      <td>Refund Request</td>\n",
       "      <td>NaN</td>\n",
       "      <td>NaN</td>\n",
       "      <td>NaN</td>\n",
       "      <td>NaN</td>\n",
       "      <td>NaN</td>\n",
       "    </tr>\n",
       "  </tbody>\n",
       "</table>\n",
       "</div>"
      ],
      "text/plain": [
       "    id                                            subject  \\\n",
       "0   36  Anfrage zu den Spezifikationen und Anpassungso...   \n",
       "1   39               Déconnexions fréquentes et plantages   \n",
       "2  243                        Problema de sonido Dell XPS   \n",
       "\n",
       "                                                body  \\\n",
       "0  Sehr geehrtes Support-Team des Tech Online Sto...   \n",
       "1  Le client signale des déconnexions fréquentes ...   \n",
       "2  Problema con el sonido, manejando como devoluc...   \n",
       "\n",
       "                                              answer      type  \\\n",
       "0  Sehr geehrter <name>,\\n\\nvielen Dank für Ihr I...   Request   \n",
       "1  Nous allons enquêter sur le problème avec Zoom...  Incident   \n",
       "2  Gracias por su correo electrónico. Procesaremo...   Problem   \n",
       "\n",
       "                   queue priority language                 business_type  \\\n",
       "0       Customer Service   medium       de             Tech Online Store   \n",
       "1        Product Support     high       fr  Software Development Company   \n",
       "2  Returns and Exchanges   medium       es             Tech Online Store   \n",
       "\n",
       "                   tag_1            tag_2               tag_3  \\\n",
       "0        Product Support    Sales Inquiry  Technical Guidance   \n",
       "1      Technical Support     Software Bug  Service Disruption   \n",
       "2  Returns and Exchanges  Product Support    Customer Service   \n",
       "\n",
       "             tag_4               tag_5               tag_6 tag_7 tag_8  tag_9  \n",
       "0  General Inquiry                 NaN                 NaN   NaN   NaN    NaN  \n",
       "1     System Crash  Problem Resolution  Performance Tuning   NaN   NaN    NaN  \n",
       "2   Refund Request                 NaN                 NaN   NaN   NaN    NaN  "
      ]
     },
     "execution_count": 11,
     "metadata": {},
     "output_type": "execute_result"
    }
   ],
   "source": [
    "df.head(3)"
   ]
  },
  {
   "cell_type": "code",
   "execution_count": 12,
   "id": "d1a53ec2-c2f8-4012-b39e-57c1fa46b3fc",
   "metadata": {},
   "outputs": [
    {
     "data": {
      "text/html": [
       "<div>\n",
       "<style scoped>\n",
       "    .dataframe tbody tr th:only-of-type {\n",
       "        vertical-align: middle;\n",
       "    }\n",
       "\n",
       "    .dataframe tbody tr th {\n",
       "        vertical-align: top;\n",
       "    }\n",
       "\n",
       "    .dataframe thead th {\n",
       "        text-align: right;\n",
       "    }\n",
       "</style>\n",
       "<table border=\"1\" class=\"dataframe\">\n",
       "  <thead>\n",
       "    <tr style=\"text-align: right;\">\n",
       "      <th></th>\n",
       "      <th>id</th>\n",
       "      <th>subject</th>\n",
       "      <th>body</th>\n",
       "      <th>answer</th>\n",
       "      <th>type</th>\n",
       "      <th>queue</th>\n",
       "      <th>priority</th>\n",
       "      <th>language</th>\n",
       "      <th>business_type</th>\n",
       "      <th>tag_1</th>\n",
       "      <th>tag_2</th>\n",
       "      <th>tag_3</th>\n",
       "      <th>tag_4</th>\n",
       "      <th>tag_5</th>\n",
       "      <th>tag_6</th>\n",
       "      <th>tag_7</th>\n",
       "      <th>tag_8</th>\n",
       "      <th>tag_9</th>\n",
       "    </tr>\n",
       "  </thead>\n",
       "  <tbody>\n",
       "    <tr>\n",
       "      <th>597</th>\n",
       "      <td>99541</td>\n",
       "      <td>Necesito soporte urgente</td>\n",
       "      <td>Estimado soporte al cliente, La pantalla tácti...</td>\n",
       "      <td>Estimado &lt;name&gt;,\\n\\nGracias por ponerte en con...</td>\n",
       "      <td>Problem</td>\n",
       "      <td>Technical Support</td>\n",
       "      <td>high</td>\n",
       "      <td>es</td>\n",
       "      <td>Tech Online Store</td>\n",
       "      <td>Technical Support</td>\n",
       "      <td>Urgent Issue</td>\n",
       "      <td>Hardware Failure</td>\n",
       "      <td>Problem Resolution</td>\n",
       "      <td>Product Support</td>\n",
       "      <td>System Maintenance</td>\n",
       "      <td>NaN</td>\n",
       "      <td>NaN</td>\n",
       "      <td>NaN</td>\n",
       "    </tr>\n",
       "    <tr>\n",
       "      <th>598</th>\n",
       "      <td>99603</td>\n",
       "      <td>Problema de Erro de Servidor</td>\n",
       "      <td>Caro Suporte ao Cliente,\\n\\nNosso Serviço de C...</td>\n",
       "      <td>Caro &lt;name&gt;,\\n\\nObrigado por entrar em contato...</td>\n",
       "      <td>Incident</td>\n",
       "      <td>Service Outages and Maintenance</td>\n",
       "      <td>high</td>\n",
       "      <td>pt</td>\n",
       "      <td>IT Services</td>\n",
       "      <td>Technical Support</td>\n",
       "      <td>IT Support</td>\n",
       "      <td>Service Disruption</td>\n",
       "      <td>System Crash</td>\n",
       "      <td>Problem Resolution</td>\n",
       "      <td>NaN</td>\n",
       "      <td>NaN</td>\n",
       "      <td>NaN</td>\n",
       "      <td>NaN</td>\n",
       "    </tr>\n",
       "    <tr>\n",
       "      <th>599</th>\n",
       "      <td>99709</td>\n",
       "      <td>Wiederholtes Bildschirmflimmern Problem gemeldet</td>\n",
       "      <td>Sehr geehrter Kundenservice, ich schreibe, um ...</td>\n",
       "      <td>Sehr geehrter &lt;name&gt;,\\n\\nvielen Dank, dass Sie...</td>\n",
       "      <td>Incident</td>\n",
       "      <td>Product Support</td>\n",
       "      <td>medium</td>\n",
       "      <td>de</td>\n",
       "      <td>Tech Online Store</td>\n",
       "      <td>Technical Support</td>\n",
       "      <td>Product Support</td>\n",
       "      <td>Hardware Failure</td>\n",
       "      <td>Problem Resolution</td>\n",
       "      <td>Service Recovery</td>\n",
       "      <td>Returns and Exchanges</td>\n",
       "      <td>NaN</td>\n",
       "      <td>NaN</td>\n",
       "      <td>NaN</td>\n",
       "    </tr>\n",
       "  </tbody>\n",
       "</table>\n",
       "</div>"
      ],
      "text/plain": [
       "        id                                           subject  \\\n",
       "597  99541                          Necesito soporte urgente   \n",
       "598  99603                      Problema de Erro de Servidor   \n",
       "599  99709  Wiederholtes Bildschirmflimmern Problem gemeldet   \n",
       "\n",
       "                                                  body  \\\n",
       "597  Estimado soporte al cliente, La pantalla tácti...   \n",
       "598  Caro Suporte ao Cliente,\\n\\nNosso Serviço de C...   \n",
       "599  Sehr geehrter Kundenservice, ich schreibe, um ...   \n",
       "\n",
       "                                                answer      type  \\\n",
       "597  Estimado <name>,\\n\\nGracias por ponerte en con...   Problem   \n",
       "598  Caro <name>,\\n\\nObrigado por entrar em contato...  Incident   \n",
       "599  Sehr geehrter <name>,\\n\\nvielen Dank, dass Sie...  Incident   \n",
       "\n",
       "                               queue priority language      business_type  \\\n",
       "597                Technical Support     high       es  Tech Online Store   \n",
       "598  Service Outages and Maintenance     high       pt        IT Services   \n",
       "599                  Product Support   medium       de  Tech Online Store   \n",
       "\n",
       "                 tag_1            tag_2               tag_3  \\\n",
       "597  Technical Support     Urgent Issue    Hardware Failure   \n",
       "598  Technical Support       IT Support  Service Disruption   \n",
       "599  Technical Support  Product Support    Hardware Failure   \n",
       "\n",
       "                  tag_4               tag_5                  tag_6 tag_7  \\\n",
       "597  Problem Resolution     Product Support     System Maintenance   NaN   \n",
       "598        System Crash  Problem Resolution                    NaN   NaN   \n",
       "599  Problem Resolution    Service Recovery  Returns and Exchanges   NaN   \n",
       "\n",
       "    tag_8  tag_9  \n",
       "597   NaN    NaN  \n",
       "598   NaN    NaN  \n",
       "599   NaN    NaN  "
      ]
     },
     "execution_count": 12,
     "metadata": {},
     "output_type": "execute_result"
    }
   ],
   "source": [
    "df.tail(3)"
   ]
  },
  {
   "cell_type": "code",
   "execution_count": 17,
   "id": "0da96f73-f50c-48e3-a186-44b1479a44e0",
   "metadata": {},
   "outputs": [],
   "source": [
    "# df.isna()"
   ]
  },
  {
   "cell_type": "code",
   "execution_count": 18,
   "id": "8d46cad6-d254-4640-9400-be778ec871e9",
   "metadata": {},
   "outputs": [],
   "source": [
    "## The body series offer a lot of information for NLP models to understand the nature of the tickets. \n",
    "## Also Priority series is important for supervised learning models to classify tickets into specific categories, in this case, urgency levels."
   ]
  },
  {
   "cell_type": "code",
   "execution_count": 19,
   "id": "8ce4fefe-29b6-40ff-ad86-b9533c1ddd41",
   "metadata": {},
   "outputs": [],
   "source": [
    "X = df['body']"
   ]
  },
  {
   "cell_type": "code",
   "execution_count": 21,
   "id": "b0ad317c-9717-4eeb-9a04-28e1c0c6cac4",
   "metadata": {},
   "outputs": [
    {
     "data": {
      "text/plain": [
       "0    Sehr geehrtes Support-Team des Tech Online Sto...\n",
       "1    Le client signale des déconnexions fréquentes ...\n",
       "2    Problema con el sonido, manejando como devoluc...\n",
       "Name: body, dtype: object"
      ]
     },
     "execution_count": 21,
     "metadata": {},
     "output_type": "execute_result"
    }
   ],
   "source": [
    "X.head(3)"
   ]
  },
  {
   "cell_type": "code",
   "execution_count": 22,
   "id": "153d8f13-b51a-42cf-9fdc-088a9a5a6930",
   "metadata": {},
   "outputs": [],
   "source": [
    "y = df['priority']"
   ]
  },
  {
   "cell_type": "code",
   "execution_count": 23,
   "id": "4e902f2c-3df7-4751-b017-1c2a5aaca443",
   "metadata": {},
   "outputs": [
    {
     "data": {
      "text/plain": [
       "0    medium\n",
       "1      high\n",
       "2    medium\n",
       "3    medium\n",
       "4    medium\n",
       "Name: priority, dtype: object"
      ]
     },
     "execution_count": 23,
     "metadata": {},
     "output_type": "execute_result"
    }
   ],
   "source": [
    "y.head()"
   ]
  },
  {
   "cell_type": "code",
   "execution_count": 24,
   "id": "a0872a8f-62fd-45d9-b929-baab6b4bc58b",
   "metadata": {},
   "outputs": [
    {
     "data": {
      "text/plain": [
       "priority\n",
       "high      266\n",
       "medium    205\n",
       "low       129\n",
       "Name: count, dtype: int64"
      ]
     },
     "execution_count": 24,
     "metadata": {},
     "output_type": "execute_result"
    }
   ],
   "source": [
    "y.value_counts()"
   ]
  },
  {
   "cell_type": "code",
   "execution_count": 33,
   "id": "d3d2f2ec-fc8c-4d45-be55-e874c0882625",
   "metadata": {},
   "outputs": [
    {
     "data": {
      "text/plain": [
       "600"
      ]
     },
     "execution_count": 33,
     "metadata": {},
     "output_type": "execute_result"
    }
   ],
   "source": [
    "## Confirming there are no missing records\n",
    "freq: list = []\n",
    "for m in y.value_counts():\n",
    "    freq.append(m)\n",
    "sum(freq)"
   ]
  },
  {
   "cell_type": "code",
   "execution_count": 34,
   "id": "e71ebbc0-bf3b-482a-87ce-62c40af8b2fe",
   "metadata": {},
   "outputs": [
    {
     "name": "stderr",
     "output_type": "stream",
     "text": [
      "warning: in the working copy of '.ipynb_checkpoints/helpdesk_customer_tickets-checkpoint.csv', LF will be replaced by CRLF the next time Git touches it\n",
      "warning: in the working copy of '.ipynb_checkpoints/mbl_assessment-checkpoint.ipynb', LF will be replaced by CRLF the next time Git touches it\n",
      "warning: in the working copy of 'helpdesk_customer_tickets.csv', LF will be replaced by CRLF the next time Git touches it\n",
      "warning: in the working copy of 'mbl_assessment.ipynb', LF will be replaced by CRLF the next time Git touches it\n"
     ]
    }
   ],
   "source": [
    "!git add ."
   ]
  },
  {
   "cell_type": "code",
   "execution_count": 35,
   "id": "b28438f9-2545-4268-a455-454d017ecc29",
   "metadata": {},
   "outputs": [
    {
     "name": "stdout",
     "output_type": "stream",
     "text": [
      "[master (root-commit) 7ae3f61] Loaded and preprocessed data\n",
      " 4 files changed, 20998 insertions(+)\n",
      " create mode 100644 .ipynb_checkpoints/helpdesk_customer_tickets-checkpoint.csv\n",
      " create mode 100644 .ipynb_checkpoints/mbl_assessment-checkpoint.ipynb\n",
      " create mode 100644 helpdesk_customer_tickets.csv\n",
      " create mode 100644 mbl_assessment.ipynb\n"
     ]
    }
   ],
   "source": [
    "!git commit -m \"Loaded and preprocessed data\""
   ]
  },
  {
   "cell_type": "code",
   "execution_count": 36,
   "id": "a6891d09-a3b8-4e35-8d9b-bb4c1d02ebc8",
   "metadata": {},
   "outputs": [],
   "source": [
    "!git branch -M main"
   ]
  },
  {
   "cell_type": "code",
   "execution_count": 37,
   "id": "a85322e6-20db-4ae7-8681-eb7113bcd202",
   "metadata": {},
   "outputs": [],
   "source": [
    "!git remote add origin https://github.com/Chiemerie1/mbl_assessment.git"
   ]
  },
  {
   "cell_type": "code",
   "execution_count": 39,
   "id": "38ddb4e8-6366-4b96-a140-a2f6ecfc4d6d",
   "metadata": {},
   "outputs": [
    {
     "name": "stdout",
     "output_type": "stream",
     "text": [
      "branch 'main' set up to track 'origin/main'.\n"
     ]
    },
    {
     "name": "stderr",
     "output_type": "stream",
     "text": [
      "To https://github.com/Chiemerie1/mbl_assessment.git\n",
      " * [new branch]      main -> main\n"
     ]
    }
   ],
   "source": [
    "!git push -u origin main"
   ]
  },
  {
   "cell_type": "code",
   "execution_count": 41,
   "id": "9ca69385-ff05-41ad-b618-8d119a63bbf2",
   "metadata": {},
   "outputs": [],
   "source": [
    "## Divididng the data into training and test data"
   ]
  },
  {
   "cell_type": "code",
   "execution_count": 43,
   "id": "93e1d01c-8e66-4b5b-b596-1f73be9a8a17",
   "metadata": {},
   "outputs": [],
   "source": [
    "X_train, X_test, y_train, y_test = train_test_split(X, y, train_size=0.8, test_size=0.2)"
   ]
  },
  {
   "cell_type": "code",
   "execution_count": null,
   "id": "6e2322d2-d633-481c-8238-da783e91dc1d",
   "metadata": {},
   "outputs": [],
   "source": [
    "## Machines don't understand letters; we convert to numerals with"
   ]
  }
 ],
 "metadata": {
  "kernelspec": {
   "display_name": "Python 3 (ipykernel)",
   "language": "python",
   "name": "python3"
  },
  "language_info": {
   "codemirror_mode": {
    "name": "ipython",
    "version": 3
   },
   "file_extension": ".py",
   "mimetype": "text/x-python",
   "name": "python",
   "nbconvert_exporter": "python",
   "pygments_lexer": "ipython3",
   "version": "3.12.0"
  }
 },
 "nbformat": 4,
 "nbformat_minor": 5
}
